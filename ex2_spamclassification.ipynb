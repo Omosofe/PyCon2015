{
 "metadata": {
  "name": "",
  "signature": "sha256:69e56e275ea485194f20677607ca432edf9c34c24bf49af98b821e42be0884e2"
 },
 "nbformat": 3,
 "nbformat_minor": 0,
 "worksheets": [
  {
   "cells": [
    {
     "cell_type": "code",
     "collapsed": false,
     "input": [
      "#%load ex2_spamclassification.py"
     ],
     "language": "python",
     "metadata": {},
     "outputs": [],
     "prompt_number": 1
    },
    {
     "cell_type": "code",
     "collapsed": false,
     "input": [
      "%matplotlib inline\n",
      "import matplotlib\n",
      "matplotlib.rcParams['savefig.dpi'] = 2 * matplotlib.rcParams['savefig.dpi']\n",
      "from sklearn.feature_extraction.text import TfidfVectorizer\n",
      "from sklearn.metrics import classification_report\n",
      "from sklearn.metrics import accuracy_score\n",
      "from sklearn.pipeline import make_pipeline\n",
      "from sklearn.naive_bayes import BernoulliNB\n",
      "from utils import download\n",
      "import numpy as np\n",
      "import zipfile\n",
      "import os"
     ],
     "language": "python",
     "metadata": {},
     "outputs": [],
     "prompt_number": 2
    },
    {
     "cell_type": "markdown",
     "metadata": {},
     "source": [
      "This example is modified from an excellent tutorial by Radim Rehurek, author of\n",
      "gensim. http://radimrehurek.com/data_science_python/\n",
      "\n",
      "The dataset we will be using is from UCI featured a bunch of text messages, classed spam/not spam.\n",
      "See https://archive.ics.uci.edu/ml/datasets/SMS+Spam+Collection\n",
      "for more details.\n",
      "\n",
      "Gomez Hidalgo, J.M., Cajigas Bringas, G., Puertas Sanz, E., Carrero Garcia, F. Content Based SMS Spam Filtering. Proceedings of the 2006 ACM Symposium on Document Engineering (ACM DOCENG'06), Amsterdam, The Netherlands, 10-13, 2006. "
     ]
    },
    {
     "cell_type": "code",
     "collapsed": false,
     "input": [
      "dataset_url = \"https://archive.ics.uci.edu/ml/machine-learning-databases/00228/smsspamcollection.zip\""
     ],
     "language": "python",
     "metadata": {},
     "outputs": [],
     "prompt_number": 3
    },
    {
     "cell_type": "markdown",
     "metadata": {},
     "source": [
      "Download the data, if the file isn't already downloaded."
     ]
    },
    {
     "cell_type": "code",
     "collapsed": false,
     "input": [
      "dataset_fname = dataset_url.split(\"/\")[-1]\n",
      "if not os.path.exists(dataset_fname):\n",
      "    download(dataset_url, server_fname=dataset_fname)"
     ],
     "language": "python",
     "metadata": {},
     "outputs": [],
     "prompt_number": 4
    },
    {
     "cell_type": "markdown",
     "metadata": {},
     "source": [
      "Get all the data out of the zipfile into a list, so we can start processing.\n",
      "Let's see some examples from the dataset."
     ]
    },
    {
     "cell_type": "code",
     "collapsed": false,
     "input": [
      "archive = zipfile.ZipFile(dataset_fname, 'r')\n",
      "raw = archive.open(archive.infolist()[0]).readlines()\n",
      "labels = [l.split(\"\\t\")[0] for l in raw]\n",
      "data = [l.split(\"\\t\")[1].rstrip() for l in raw]"
     ],
     "language": "python",
     "metadata": {},
     "outputs": [],
     "prompt_number": 5
    },
    {
     "cell_type": "markdown",
     "metadata": {},
     "source": [
      "Let's see some examples from the dataset!"
     ]
    },
    {
     "cell_type": "code",
     "collapsed": false,
     "input": [
      "for l, d in zip(labels, data)[:10]:\n",
      "    print(\"%s %s\" % (l, d))\n",
      "\n",
      "labels = np.array(labels)\n",
      "n_spam = np.sum(labels == \"spam\")\n",
      "n_ham = np.sum(labels == \"ham\")\n",
      "print(\"Percentage spam %f\" % (float(n_spam) / len(labels)))\n",
      "print(\"Percentage ham %f\" % (float(n_ham) / len(labels)))"
     ],
     "language": "python",
     "metadata": {},
     "outputs": [
      {
       "output_type": "stream",
       "stream": "stdout",
       "text": [
        "ham Go until jurong point, crazy.. Available only in bugis n great world la e buffet... Cine there got amore wat...\n",
        "ham Ok lar... Joking wif u oni...\n",
        "spam Free entry in 2 a wkly comp to win FA Cup final tkts 21st May 2005. Text FA to 87121 to receive entry question(std txt rate)T&C's apply 08452810075over18's\n",
        "ham U dun say so early hor... U c already then say...\n",
        "ham Nah I don't think he goes to usf, he lives around here though\n",
        "spam FreeMsg Hey there darling it's been 3 week's now and no word back! I'd like some fun you up for it still? Tb ok! XxX std chgs to send, \u00a31.50 to rcv\n",
        "ham Even my brother is not like to speak with me. They treat me like aids patent.\n",
        "ham As per your request 'Melle Melle (Oru Minnaminunginte Nurungu Vettam)' has been set as your callertune for all Callers. Press *9 to copy your friends Callertune\n",
        "spam WINNER!! As a valued network customer you have been selected to receivea \u00a3900 prize reward! To claim call 09061701461. Claim code KL341. Valid 12 hours only.\n",
        "spam Had your mobile 11 months or more? U R entitled to Update to the latest colour mobiles with camera for Free! Call The Mobile Update Co FREE on 08002986030\n",
        "Percentage spam 0.134015\n",
        "Percentage ham 0.865985\n"
       ]
      }
     ],
     "prompt_number": 6
    },
    {
     "cell_type": "markdown",
     "metadata": {},
     "source": [
      "We want to train on 80% of the data, use last 20% for validation. Use sklearn's pipelines to make out job easy."
     ]
    },
    {
     "cell_type": "code",
     "collapsed": false,
     "input": [
      "train_boundary = int(.8 * len(data))\n",
      "train_X = np.array(data[:train_boundary])\n",
      "train_y = np.array(labels[:train_boundary])\n",
      "test_X = np.array(data[train_boundary:])\n",
      "test_y = np.array(labels[train_boundary:])\n",
      "\n",
      "text_cleaner = TfidfVectorizer()\n",
      "classifier = BernoulliNB()\n",
      "p = make_pipeline(text_cleaner, classifier)\n",
      "p.fit(train_X, train_y)"
     ],
     "language": "python",
     "metadata": {},
     "outputs": [
      {
       "metadata": {},
       "output_type": "pyout",
       "prompt_number": 7,
       "text": [
        "Pipeline(steps=[('tfidfvectorizer', TfidfVectorizer(analyzer=u'word', binary=False, charset=None,\n",
        "        charset_error=None, decode_error=u'strict',\n",
        "        dtype=<type 'numpy.int64'>, encoding=u'utf-8', input=u'content',\n",
        "        lowercase=True, max_df=1.0, max_features=None, min_df=1,\n",
        "        ngram_range=(...ary=None)), ('bernoullinb', BernoulliNB(alpha=1.0, binarize=0.0, class_prior=None, fit_prior=True))])"
       ]
      }
     ],
     "prompt_number": 7
    },
    {
     "cell_type": "markdown",
     "metadata": {},
     "source": [
      "See how it is doing on the training and test sets, and print some of the data we got wrong."
     ]
    },
    {
     "cell_type": "code",
     "collapsed": false,
     "input": [
      "pred_train_y = p.predict(train_X)\n",
      "pred_test_y = p.predict(test_X)\n",
      "print(\"Training accuracy %f\" % accuracy_score(train_y, pred_train_y))\n",
      "print(\"Testing accuracy %f\" % accuracy_score(test_y, pred_test_y))\n",
      "print(\" \")\n",
      "print(\"Test classification report\")\n",
      "print(\"==========================\")\n",
      "print(classification_report(test_y, pred_test_y))\n",
      "\n",
      "misses = np.where(pred_test_y != test_y)[0]\n",
      "for n in misses:\n",
      "    i = n + train_boundary\n",
      "    lt = labels[i]\n",
      "    lp = pred_test_y[n]\n",
      "    d = data[i]\n",
      "    print(\"true:%s predicted:%s %s\" % (lt, lp, d))"
     ],
     "language": "python",
     "metadata": {},
     "outputs": [
      {
       "output_type": "stream",
       "stream": "stdout",
       "text": [
        "Training accuracy 0.987890\n",
        "Testing accuracy 0.978475\n",
        " \n",
        "Test classification report\n",
        "==========================\n",
        "             precision    recall  f1-score   support\n",
        "\n",
        "        ham       0.98      1.00      0.99       970\n",
        "       spam       1.00      0.83      0.91       145\n",
        "\n",
        "avg / total       0.98      0.98      0.98      1115\n",
        "\n",
        "true:spam predicted:ham 3. You have received your mobile content. Enjoy\n",
        "true:spam predicted:ham Want explicit SEX in 30 secs? Ring 02073162414 now! Costs 20p/min\n",
        "true:spam predicted:ham Mobile Club: Choose any of the top quality items for your mobile. 7cfca1a\n",
        "true:spam predicted:ham Money i have won wining number 946 wot do i do next\n",
        "true:spam predicted:ham I want some cock! My hubby's away, I need a real man 2 satisfy me. Txt WIFE to 89938 for no strings action. (Txt STOP 2 end, txt rec \u00a31.50ea. OTBox 731 LA1 7WS. )\n",
        "true:spam predicted:ham Hi babe its Chloe, how r u? I was smashed on saturday night, it was great! How was your weekend? U been missing me? SP visionsms.com Text stop to stop 150p/text\n",
        "true:spam predicted:ham Santa calling! Would your little ones like a call from Santa Xmas Eve? Call 09077818151 to book you time. Calls1.50ppm last 3mins 30s T&C www.santacalling.com\n",
        "true:spam predicted:ham Check Out Choose Your Babe Videos @ sms.shsex.netUN fgkslpoPW fgkslpo\n",
        "true:spam predicted:ham Goal! Arsenal 4 (Henry, 7 v Liverpool 2 Henry scores with a simple shot from 6 yards from a pass by Bergkamp to give Arsenal a 2 goal margin after 78 mins.\n",
        "true:spam predicted:ham Hi, the SEXYCHAT girls are waiting for you to text them. Text now for a great night chatting. send STOP to stop this service\n",
        "true:spam predicted:ham Hi this is Amy, we will be sending you a free phone number in a couple of days, which will give you an access to all the adult parties...\n",
        "true:spam predicted:ham You can donate \u00a32.50 to UNICEF's Asian Tsunami disaster support fund by texting DONATE to 864233. \u00a32.50 will be added to your next bill\n",
        "true:spam predicted:ham You have 1 new message. Please call 08715205273\n",
        "true:spam predicted:ham PRIVATE! Your 2003 Account Statement for 078\n",
        "true:spam predicted:ham dating:i have had two of these. Only started after i sent a text to talk sport radio last week. Any connection do you think or coincidence?\n",
        "true:spam predicted:ham The current leading bid is 151. To pause this auction send OUT. Customer Care: 08718726270\n",
        "true:spam predicted:ham You have 1 new message. Call 0207-083-6089\n",
        "true:spam predicted:ham Santa Calling! Would your little ones like a call from Santa Xmas eve? Call 09058094583 to book your time.\n",
        "true:spam predicted:ham Latest News! Police station toilet stolen, cops have nothing to go on!\n",
        "true:spam predicted:ham \"For the most sparkling shopping breaks from 45 per person; call 0121 2025050 or visit www.shortbreaks.org.uk\"\n",
        "true:spam predicted:ham http//tms. widelive.com/index. wml?id=820554ad0a1705572711&first=true\u00a1C C Ringtone\u00a1\n",
        "true:spam predicted:ham Marvel Mobile Play the official Ultimate Spider-man game (\u00a34.50) on ur mobile right now. Text SPIDER to 83338 for the game & we ll send u a FREE 8Ball wallpaper\n",
        "true:spam predicted:ham Want explicit SEX in 30 secs? Ring 02073162414 now! Costs 20p/min Gsex POBOX 2667 WC1N 3XX\n",
        "true:spam predicted:ham ASKED 3MOBILE IF 0870 CHATLINES INCLU IN FREE MINS. INDIA CUST SERVs SED YES. L8ER GOT MEGA BILL. 3 DONT GIV A SHIT. BAILIFF DUE IN DAYS. I O \u00a3250 3 WANT \u00a3800\n"
       ]
      }
     ],
     "prompt_number": 8
    },
    {
     "cell_type": "code",
     "collapsed": false,
     "input": [],
     "language": "python",
     "metadata": {},
     "outputs": [],
     "prompt_number": 8
    }
   ],
   "metadata": {}
  }
 ]
}